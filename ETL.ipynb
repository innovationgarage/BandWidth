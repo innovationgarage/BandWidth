{
 "cells": [
  {
   "cell_type": "code",
   "execution_count": 1,
   "metadata": {},
   "outputs": [],
   "source": [
    "import numpy as np\n",
    "import pandas as pd\n",
    "import matplotlib.pyplot as plt\n",
    "import seaborn as sns\n",
    "import findspark\n",
    "findspark.init()\n",
    "from pyspark.sql import SparkSession\n",
    "spark = SparkSession.builder \\\n",
    "    .master('local') \\\n",
    "    .appName('ETL') \\\n",
    "    .config('spark.executor.memory', '5gb') \\\n",
    "    .config(\"spark.cores.max\", \"6\") \\\n",
    "    .getOrCreate()\n",
    "sc = spark.sparkContext\n",
    "from pyspark.sql.window import Window\n",
    "from pyspark.sql import functions as F"
   ]
  },
  {
   "cell_type": "code",
   "execution_count": 2,
   "metadata": {},
   "outputs": [],
   "source": [
    "from pyspark.sql.types import StructType, StructField, IntegerType, TimestampType, BooleanType, StringType\n",
    "\n",
    "schema = StructType([\n",
    "    StructField(\"timestamp\", TimestampType(), True),\n",
    "    StructField(\"stream\", IntegerType(), True),\n",
    "    StructField(\"sent\", BooleanType(), True),\n",
    "    StructField(\"seqnum\", IntegerType(), True),\n",
    "    StructField(\"ack\", BooleanType(), True),\n",
    "    StructField(\"acknum\", IntegerType(), True)\n",
    "])"
   ]
  },
  {
   "cell_type": "code",
   "execution_count": 13,
   "metadata": {},
   "outputs": [],
   "source": [
    "def read_npz_to_df(filename):\n",
    "    data = np.load(filename+'.npz')['packets']\n",
    "    pd_df = pd.DataFrame(data=data)\n",
    "    pd_df.drop(columns=['src', 'dst', 'src_port', 'dst_port'], inplace=True)\n",
    "    pd_df.to_csv(filename+'.csv', index=False)\n",
    "    df = spark.read.option(\"header\", \"true\").csv(filename+'.csv')\n",
    "    return df\n",
    "\n",
    "def find_ack_for_seq(df):\n",
    "    df.createOrReplaceTempView(\"df\")\n",
    "    df_joined = spark.sql(\"\"\"\n",
    "                select df1.stream, df1.timestamp, df1.sent, df1.seqnum, min(df2.timestamp) as acktimestamp \n",
    "                from df df1 inner join df df2 \n",
    "                on df1.seqnum<df2.acknum \n",
    "                and df1.sent!=df2.sent\n",
    "                and df1.stream=df2.stream\n",
    "                group by df1.stream, df1.timestamp, df1.seqnum, df1.sent\n",
    "                order by df1.stream\n",
    "                \"\"\")\n",
    "    return df_joined\n",
    "\n",
    "def shift_windows(df, streamno):\n",
    "    shift_window = Window.partitionBy().orderBy('timestamp')\n",
    "    #calculate sequence length\n",
    "    df.createOrReplaceTempView(\"df\")\n",
    "\n",
    "    df_shifted = spark.sql(\"select * from df where stream={} and sent=True\".format(streamno))\n",
    "\n",
    "    df_shifted = df_shifted.withColumn('seqnum_1', F.lag(df_shifted.seqnum).over(shift_window))\n",
    "    df_shifted = df_shifted.withColumn('seqlength', F.when(F.isnull(df_shifted.seqnum - df_shifted.seqnum_1), 0)\n",
    "                          .otherwise(df_shifted.seqnum - df_shifted.seqnum_1))\n",
    "    #calculate g_in\n",
    "    df_shifted = df_shifted.withColumn('timestamp_1', F.lag(df_shifted.timestamp).over(shift_window))\n",
    "    df_shifted = df_shifted.withColumn('gin', F.when(F.isnull(df_shifted.timestamp - df_shifted.timestamp_1), 0)\n",
    "                          .otherwise(df_shifted.timestamp - df_shifted.timestamp_1))\n",
    "    #calculate g_ack\n",
    "    df_shifted = df_shifted.withColumn('acktimestamp_1', F.lag(df_shifted.acktimestamp).over(shift_window))\n",
    "    df_shifted = df_shifted.withColumn('gack', F.when(F.isnull(df_shifted.acktimestamp - df_shifted.acktimestamp_1), 0)\n",
    "                          .otherwise(df_shifted.acktimestamp - df_shifted.acktimestamp_1))\n",
    "    return df_shifted\n",
    "\n",
    "def sanity_check(df):\n",
    "    df.createOrReplaceTempView(\"df_shifted\")\n",
    "    df_sanity = spark.sql(\"\"\"\n",
    "                            select  timestamp, timestamp_1, seqnum, seqnum_1, seqlength, gin \n",
    "                            from df_shifted \n",
    "                            where df_shifted.seqlength<0 \n",
    "                            and sent=True \n",
    "                            and stream=0 \n",
    "                            order by timestamp asc\n",
    "                            \"\"\")\n",
    "    if df_sanity.count()==0:\n",
    "        return True\n",
    "    else:\n",
    "        return False\n",
    "\n",
    "def get_stream_arrays(df, streamno):\n",
    "    df.createOrReplaceTempView(\"df_stream\")\n",
    "    stream = spark.sql(\"\"\"\n",
    "                        select * from df_stream\n",
    "                        where df_stream.stream={}\n",
    "                        \"\"\".format(streamno))\\\n",
    "    .rdd.map(lambda row: (row.timestamp, row.seqlength, row.gin, row.gack))\n",
    "    ts_array = np.array(stream.map(lambda ts_l: ts_l[0]).collect())\n",
    "    l_array = np.array(stream.map(lambda ts_l: ts_l[1]).collect())\n",
    "    gin_array = np.array(stream.map(lambda ts_l: ts_l[2]).collect())\n",
    "    gack_array = np.array(stream.map(lambda ts_l: ts_l[3]).collect())\n",
    "    return ts_array, l_array, gin_array, gack_array"
   ]
  },
  {
   "cell_type": "code",
   "execution_count": 14,
   "metadata": {},
   "outputs": [],
   "source": [
    "filename = 'dumpfile17'\n",
    "streamno = 0\n",
    "df = read_npz_to_df(filename)\n",
    "df_joined = find_ack_for_seq(df)\n",
    "df_shifted = shift_windows(df_joined, streamno)\n",
    "if sanity_check(df_shifted):\n",
    "    ts_array, l_array, gin_array, gack_array = get_stream_arrays(df_shifted, streamno)"
   ]
  },
  {
   "cell_type": "code",
   "execution_count": 15,
   "metadata": {},
   "outputs": [
    {
     "name": "stdout",
     "output_type": "stream",
     "text": [
      "2830.3239740820736 315.97876806179266 0.0 2896.0 2896.0\n"
     ]
    },
    {
     "data": {
      "image/png": "[encoded data removed]",
      "text/plain": [
       "<Figure size 432x288 with 1 Axes>"
      ]
     },
     "metadata": {
      "needs_background": "light"
     },
     "output_type": "display_data"
    }
   ],
   "source": [
    "sns.distplot(l_array)\n",
    "print(l_array.mean(), l_array.std(), l_array.min(), l_array.max(), np.median(l_array))"
   ]
  },
  {
   "cell_type": "code",
   "execution_count": 16,
   "metadata": {},
   "outputs": [
    {
     "data": {
      "text/plain": [
       "<matplotlib.axes._subplots.AxesSubplot at 0x7fb9d53cfb38>"
      ]
     },
     "execution_count": 16,
     "metadata": {},
     "output_type": "execute_result"
    },
    {
     "data": {
      "image/png": "[encoded data removed]",
      "text/plain": [
       "<Figure size 432x288 with 1 Axes>"
      ]
     },
     "metadata": {
      "needs_background": "light"
     },
     "output_type": "display_data"
    }
   ],
   "source": [
    "sns.distplot(gin_array)"
   ]
  },
  {
   "cell_type": "code",
   "execution_count": 17,
   "metadata": {},
   "outputs": [
    {
     "data": {
      "text/plain": [
       "<matplotlib.axes._subplots.AxesSubplot at 0x7fb9d53cff28>"
      ]
     },
     "execution_count": 17,
     "metadata": {},
     "output_type": "execute_result"
    },
    {
     "data": {
      "image/png": "[encoded data removed]",
      "text/plain": [
       "<Figure size 432x288 with 1 Axes>"
      ]
     },
     "metadata": {
      "needs_background": "light"
     },
     "output_type": "display_data"
    }
   ],
   "source": [
    "sns.distplot(gack_array)"
   ]
  },
  {
   "cell_type": "code",
   "execution_count": 18,
   "metadata": {},
   "outputs": [
    {
     "data": {
      "text/plain": [
       "<matplotlib.colorbar.Colorbar at 0x7fb9d4a4a320>"
      ]
     },
     "execution_count": 18,
     "metadata": {},
     "output_type": "execute_result"
    },
    {
     "data": {
      "image/png": "[encoded data removed]",
      "text/plain": [
       "<Figure size 1440x360 with 2 Axes>"
      ]
     },
     "metadata": {
      "needs_background": "light"
     },
     "output_type": "display_data"
    }
   ],
   "source": [
    "plt.figure(figsize=(20,5))\n",
    "plt.scatter(gin_array, gack_array, c=l_array)\n",
    "plt.yscale('log')\n",
    "plt.xscale('log')\n",
    "plt.colorbar()"
   ]
  },
  {
   "cell_type": "code",
   "execution_count": 19,
   "metadata": {},
   "outputs": [
    {
     "data": {
      "text/plain": [
       "<matplotlib.collections.PathCollection at 0x7fb9d4925860>"
      ]
     },
     "execution_count": 19,
     "metadata": {},
     "output_type": "execute_result"
    },
    {
     "data": {
      "image/png": "[encoded data removed]",
      "text/plain": [
       "<Figure size 1440x360 with 1 Axes>"
      ]
     },
     "metadata": {
      "needs_background": "light"
     },
     "output_type": "display_data"
    }
   ],
   "source": [
    "plt.figure(figsize=(20,5))\n",
    "plt.scatter(gin_array, l_array, c=gack_array)\n",
    "#plt.yscale('log')\n",
    "#plt.xscale('log')"
   ]
  },
  {
   "cell_type": "code",
   "execution_count": 20,
   "metadata": {},
   "outputs": [
    {
     "name": "stderr",
     "output_type": "stream",
     "text": [
      "/home/saghar/.virtualenvs/spark3/lib/python3.5/site-packages/ipykernel_launcher.py:2: RuntimeWarning: invalid value encountered in true_divide\n",
      "  \n"
     ]
    },
    {
     "data": {
      "text/plain": [
       "[<matplotlib.lines.Line2D at 0x7fb9d48bcf98>]"
      ]
     },
     "execution_count": 20,
     "metadata": {},
     "output_type": "execute_result"
    },
    {
     "data": {
      "image/png": "[encoded data removed]",
      "text/plain": [
       "<Figure size 1440x360 with 1 Axes>"
      ]
     },
     "metadata": {
      "needs_background": "light"
     },
     "output_type": "display_data"
    }
   ],
   "source": [
    "plt.figure(figsize=(20,5))\n",
    "plt.plot(gack_array/gin_array, l_array/gin_array, 'o')\n",
    "#plt.yscale('log')\n",
    "#plt.xscale('log')\n"
   ]
  },
  {
   "cell_type": "code",
   "execution_count": 27,
   "metadata": {},
   "outputs": [
    {
     "name": "stdout",
     "output_type": "stream",
     "text": [
      "+--------+--------+\n",
      "|     gin|    gack|\n",
      "+--------+--------+\n",
      "|     0.0|     0.0|\n",
      "|  4846.0|  4850.0|\n",
      "|  2423.0|  2423.0|\n",
      "|  2420.0|  2410.0|\n",
      "|  2424.0|  2427.0|\n",
      "|  2421.0|  2417.0|\n",
      "|  2422.0|  2423.0|\n",
      "|  2426.0|  2436.0|\n",
      "|  2423.0|  2430.0|\n",
      "|475998.0|475992.0|\n",
      "|  2425.0|  2422.0|\n",
      "|  2421.0|  2425.0|\n",
      "|  2424.0|  2423.0|\n",
      "|  2431.0|  2426.0|\n",
      "|  2411.0|  2403.0|\n",
      "|  2421.0|  2418.0|\n",
      "|  2424.0|  2427.0|\n",
      "|  2437.0|  2431.0|\n",
      "|  2407.0|  2407.0|\n",
      "|  2423.0|  2429.0|\n",
      "+--------+--------+\n",
      "only showing top 20 rows\n",
      "\n"
     ]
    }
   ],
   "source": [
    "df_shifted.select(['gin', 'gack']).show()\n",
    "#df_shifted.select('gin').rdd.flatMap(list).collect()"
   ]
  },
  {
   "cell_type": "code",
   "execution_count": null,
   "metadata": {},
   "outputs": [],
   "source": []
  }
 ],
 "metadata": {
  "kernelspec": {
   "display_name": "Python 3",
   "language": "python",
   "name": "python3"
  },
  "language_info": {
   "codemirror_mode": {
    "name": "ipython",
    "version": 3
   },
   "file_extension": ".py",
   "mimetype": "text/x-python",
   "name": "python",
   "nbconvert_exporter": "python",
   "pygments_lexer": "ipython3",
   "version": "3.5.2"
  }
 },
 "nbformat": 4,
 "nbformat_minor": 2
}
