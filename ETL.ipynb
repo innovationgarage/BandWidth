{
 "cells": [
  {
   "cell_type": "code",
   "execution_count": 22,
   "metadata": {},
   "outputs": [],
   "source": [
    "import os\n",
    "import numpy as np\n",
    "import pandas as pd\n",
    "import matplotlib.pyplot as plt\n",
    "import seaborn as sns\n",
    "import findspark\n",
    "findspark.init()\n",
    "from pyspark.sql import SparkSession\n",
    "spark = SparkSession.builder \\\n",
    "    .master('local') \\\n",
    "    .appName('ETL') \\\n",
    "    .config('spark.executor.memory', '5gb') \\\n",
    "    .config(\"spark.cores.max\", \"6\") \\\n",
    "    .getOrCreate()\n",
    "sc = spark.sparkContext\n",
    "from pyspark.sql.window import Window\n",
    "from pyspark.sql import functions as F"
   ]
  },
  {
   "cell_type": "code",
   "execution_count": 23,
   "metadata": {},
   "outputs": [],
   "source": [
    "from pyspark.sql.types import StructType, StructField, IntegerType, TimestampType, BooleanType, StringType\n",
    "\n",
    "schema = StructType([\n",
    "    StructField(\"timestamp\", TimestampType(), True),\n",
    "    StructField(\"stream\", IntegerType(), True),\n",
    "    StructField(\"sent\", BooleanType(), True),\n",
    "    StructField(\"seqnum\", IntegerType(), True),\n",
    "    StructField(\"ack\", BooleanType(), True),\n",
    "    StructField(\"acknum\", IntegerType(), True)\n",
    "])"
   ]
  },
  {
   "cell_type": "code",
   "execution_count": 24,
   "metadata": {},
   "outputs": [],
   "source": [
    "def read_npz_to_df(filename):\n",
    "    data = np.load(filename+'.npz')['packets']\n",
    "    pd_df = pd.DataFrame(data=data)\n",
    "    pd_df.drop(columns=['src', 'dst', 'src_port', 'dst_port'], inplace=True)\n",
    "    pd_df.to_csv(filename+'.csv', index=False)\n",
    "    df = spark.read.option(\"header\", \"true\").csv(filename+'.csv')    \n",
    "    return df\n",
    "\n",
    "def find_ack_for_seq(df):\n",
    "    df.createOrReplaceTempView(\"df\")\n",
    "    df_joined = spark.sql(\"\"\"\n",
    "                select df1.stream, df1.timestamp, df1.sent, df1.seqnum, min(df2.timestamp) as acktimestamp \n",
    "                from df df1 inner join df df2 \n",
    "                on df1.seqnum<df2.acknum \n",
    "                and df1.sent!=df2.sent\n",
    "                and df1.stream=df2.stream\n",
    "                group by df1.stream, df1.timestamp, df1.seqnum, df1.sent\n",
    "                order by df1.stream\n",
    "                \"\"\")\n",
    "    return df_joined\n",
    "\n",
    "def shift_windows(df, streamno):\n",
    "    shift_window = Window.partitionBy().orderBy('timestamp')\n",
    "    #calculate sequence length\n",
    "    df.createOrReplaceTempView(\"df\")\n",
    "\n",
    "    df_shifted = spark.sql(\"select * from df where stream={} and sent=True\".format(streamno))\n",
    "\n",
    "    df_shifted = df_shifted.withColumn('seqnum_1', F.lag(df_shifted.seqnum).over(shift_window))\n",
    "    df_shifted = df_shifted.withColumn('seqlength', F.when(F.isnull(df_shifted.seqnum - df_shifted.seqnum_1), 0)\n",
    "                          .otherwise(df_shifted.seqnum - df_shifted.seqnum_1))\n",
    "    #calculate g_in\n",
    "    df_shifted = df_shifted.withColumn('timestamp_1', F.lag(df_shifted.timestamp).over(shift_window))\n",
    "    df_shifted = df_shifted.withColumn('gin', F.when(F.isnull(df_shifted.timestamp - df_shifted.timestamp_1), 0)\n",
    "                          .otherwise(df_shifted.timestamp - df_shifted.timestamp_1))\n",
    "    #calculate g_ack\n",
    "    df_shifted = df_shifted.withColumn('acktimestamp_1', F.lag(df_shifted.acktimestamp).over(shift_window))\n",
    "    df_shifted = df_shifted.withColumn('gack', F.when(F.isnull(df_shifted.acktimestamp - df_shifted.acktimestamp_1), 0)\n",
    "                          .otherwise(df_shifted.acktimestamp - df_shifted.acktimestamp_1))\n",
    "    return df_shifted\n",
    "\n",
    "def sanity_check(df):\n",
    "    df.createOrReplaceTempView(\"df_shifted\")\n",
    "    df_sanity = spark.sql(\"\"\"\n",
    "                            select  timestamp, timestamp_1, seqnum, seqnum_1, seqlength, gin \n",
    "                            from df_shifted \n",
    "                            where df_shifted.seqlength<0 \n",
    "                            and sent=True \n",
    "                            and stream=0 \n",
    "                            order by timestamp asc\n",
    "                            \"\"\")\n",
    "    if df_sanity.count()==0:\n",
    "        return True\n",
    "    else:\n",
    "        return False\n",
    "\n",
    "def get_stream_arrays(df, streamno):\n",
    "    df.createOrReplaceTempView(\"df_stream\")\n",
    "    stream = spark.sql(\"\"\"\n",
    "                        select * from df_stream\n",
    "                        where df_stream.stream={}\n",
    "                        \"\"\".format(streamno))\\\n",
    "    .rdd.map(lambda row: (row.timestamp, row.seqlength, row.gin, row.gack))\n",
    "    ts_array = np.array(stream.map(lambda ts_l: ts_l[0]).collect())\n",
    "    l_array = np.array(stream.map(lambda ts_l: ts_l[1]).collect())\n",
    "    gin_array = np.array(stream.map(lambda ts_l: ts_l[2]).collect())\n",
    "    gack_array = np.array(stream.map(lambda ts_l: ts_l[3]).collect())\n",
    "    return ts_array, l_array, gin_array, gack_array"
   ]
  },
  {
   "cell_type": "code",
   "execution_count": 32,
   "metadata": {},
   "outputs": [
    {
     "name": "stdout",
     "output_type": "stream",
     "text": [
      "dumpfile_885_9_92.npz\n",
      "dumpfile_10000_10_1055.npz\n",
      "dumpfile_545_9_90.npz\n",
      "dumpfile_10000_10_722.npz\n",
      "dumpfile_10000_10_833.npz\n",
      "dumpfile_3792_4_474.npz\n",
      "dumpfile_10000_11_1060.npz\n",
      "dumpfile_2335_33_35.npz\n"
     ]
    }
   ],
   "source": [
    "import glob, os\n",
    "os.chdir(\"dumpfiles\")\n",
    "for file in glob.glob(\"*.npz\"):\n",
    "    print(file)\n",
    "os.chdir('../')"
   ]
  },
  {
   "cell_type": "code",
   "execution_count": 42,
   "metadata": {},
   "outputs": [
    {
     "name": "stdout",
     "output_type": "stream",
     "text": [
      "dumpfiles/dumpfile_3792_4_474\n"
     ]
    }
   ],
   "source": [
    "filename = 'dumpfiles/dumpfile_3792_4_474.npz'\n",
    "filename = filename.split('.npz')[0]\n",
    "print(filename)\n",
    "streamno = 0\n",
    "df = read_npz_to_df(filename)\n",
    "df_joined = find_ack_for_seq(df)\n",
    "df_shifted = shift_windows(df_joined, streamno)\n",
    "if sanity_check(df_shifted):\n",
    "    ts_array, l_array, gin_array, gack_array = get_stream_arrays(df_shifted, streamno)"
   ]
  },
  {
   "cell_type": "code",
   "execution_count": 43,
   "metadata": {},
   "outputs": [
    {
     "name": "stdout",
     "output_type": "stream",
     "text": [
      "+----------------+------+-----+----------+----+----------+\n",
      "|       timestamp|stream| sent|    seqnum| ack|    acknum|\n",
      "+----------------+------+-----+----------+----+----------+\n",
      "|1561031517283414|     0| True|2587327968|True| 106428016|\n",
      "|1561031517283507|     0|False| 106428016|True|2587335208|\n",
      "|1561031517287049|     0| True|2587335208|True| 106428016|\n",
      "|1561031517287094|     0|False| 106428016|True|2587336656|\n",
      "|1561031517309489|     0| True|2587336656|True| 106428016|\n",
      "|1561031517309579|     0|False| 106428016|True|2587346792|\n",
      "|1561031517315877|     0| True|2587346792|True| 106428016|\n",
      "|1561031517315948|     0|False| 106428016|True|2587349688|\n",
      "|1561031517334975|     0| True|2587349688|True| 106428016|\n",
      "|1561031517335055|     0|False| 106428016|True|2587358376|\n",
      "|1561031517347810|     0| True|2587358376|True| 106428016|\n",
      "|1561031517347852|     0|False| 106428016|True|2587364168|\n",
      "|1561031517450370|     0| True|2587364168|True| 106428016|\n",
      "|1561031517450413|     0|False| 106428016|True|2587367064|\n",
      "|1561031517455369|     0| True|2587367064|True| 106428016|\n",
      "|1561031517455442|     0|False| 106428016|True|2587369265|\n",
      "|1561031517611800|     0| True|2587369265|True| 106428016|\n",
      "|1561031517611846|     0|False| 106428016|True|2587372161|\n",
      "|1561031517618190|     0| True|2587372161|True| 106428016|\n",
      "|1561031517618231|     0|False| 106428016|True|2587375057|\n",
      "+----------------+------+-----+----------+----+----------+\n",
      "only showing top 20 rows\n",
      "\n"
     ]
    }
   ],
   "source": [
    "df.filter(df.stream==0).show()"
   ]
  },
  {
   "cell_type": "code",
   "execution_count": 44,
   "metadata": {},
   "outputs": [
    {
     "name": "stdout",
     "output_type": "stream",
     "text": [
      "2839.5097636176774 480.04028089510956 0.0 10136.0 2896.0\n"
     ]
    },
    {
     "data": {
      "image/png": "[encoded data removed]",
      "text/plain": [
       "<Figure size 432x288 with 1 Axes>"
      ]
     },
     "metadata": {
      "needs_background": "light"
     },
     "output_type": "display_data"
    }
   ],
   "source": [
    "sns.distplot(l_array)\n",
    "print(l_array.mean(), l_array.std(), l_array.min(), l_array.max(), np.median(l_array))"
   ]
  },
  {
   "cell_type": "code",
   "execution_count": 45,
   "metadata": {},
   "outputs": [
    {
     "data": {
      "text/plain": [
       "<matplotlib.axes._subplots.AxesSubplot at 0x7f315021ee48>"
      ]
     },
     "execution_count": 45,
     "metadata": {},
     "output_type": "execute_result"
    },
    {
     "data": {
      "image/png": "[encoded data removed]",
      "text/plain": [
       "<Figure size 432x288 with 1 Axes>"
      ]
     },
     "metadata": {
      "needs_background": "light"
     },
     "output_type": "display_data"
    }
   ],
   "source": [
    "sns.distplot(gin_array)"
   ]
  },
  {
   "cell_type": "code",
   "execution_count": 46,
   "metadata": {},
   "outputs": [
    {
     "data": {
      "text/plain": [
       "<matplotlib.axes._subplots.AxesSubplot at 0x7f3149eb81d0>"
      ]
     },
     "execution_count": 46,
     "metadata": {},
     "output_type": "execute_result"
    },
    {
     "data": {
      "image/png": "[encoded data removed]",
      "text/plain": [
       "<Figure size 432x288 with 1 Axes>"
      ]
     },
     "metadata": {
      "needs_background": "light"
     },
     "output_type": "display_data"
    }
   ],
   "source": [
    "sns.distplot(gack_array)"
   ]
  },
  {
   "cell_type": "code",
   "execution_count": 47,
   "metadata": {},
   "outputs": [
    {
     "data": {
      "text/plain": [
       "<matplotlib.colorbar.Colorbar at 0x7f3149d9dac8>"
      ]
     },
     "execution_count": 47,
     "metadata": {},
     "output_type": "execute_result"
    },
    {
     "data": {
      "image/png": "[encoded data removed]",
      "text/plain": [
       "<Figure size 1440x360 with 2 Axes>"
      ]
     },
     "metadata": {
      "needs_background": "light"
     },
     "output_type": "display_data"
    }
   ],
   "source": [
    "plt.figure(figsize=(20,5))\n",
    "plt.scatter(gin_array, gack_array, c=l_array)\n",
    "plt.yscale('log')\n",
    "plt.xscale('log')\n",
    "plt.colorbar()"
   ]
  },
  {
   "cell_type": "code",
   "execution_count": 48,
   "metadata": {},
   "outputs": [
    {
     "data": {
      "text/plain": [
       "<matplotlib.collections.PathCollection at 0x7f3149d08da0>"
      ]
     },
     "execution_count": 48,
     "metadata": {},
     "output_type": "execute_result"
    },
    {
     "data": {
      "image/png": "[encoded data removed]",
      "text/plain": [
       "<Figure size 1440x360 with 1 Axes>"
      ]
     },
     "metadata": {
      "needs_background": "light"
     },
     "output_type": "display_data"
    }
   ],
   "source": [
    "plt.figure(figsize=(20,5))\n",
    "plt.scatter(gin_array, l_array, c=gack_array)\n",
    "#plt.yscale('log')\n",
    "#plt.xscale('log')"
   ]
  },
  {
   "cell_type": "code",
   "execution_count": 49,
   "metadata": {},
   "outputs": [
    {
     "name": "stderr",
     "output_type": "stream",
     "text": [
      "/home/saghar/.virtualenvs/bandwidth/lib/python3.5/site-packages/ipykernel_launcher.py:2: RuntimeWarning: invalid value encountered in true_divide\n",
      "  \n"
     ]
    },
    {
     "data": {
      "text/plain": [
       "[<matplotlib.lines.Line2D at 0x7f3149c40eb8>]"
      ]
     },
     "execution_count": 49,
     "metadata": {},
     "output_type": "execute_result"
    },
    {
     "data": {
      "image/png": "[encoded data removed]",
      "text/plain": [
       "<Figure size 1440x360 with 1 Axes>"
      ]
     },
     "metadata": {
      "needs_background": "light"
     },
     "output_type": "display_data"
    }
   ],
   "source": [
    "plt.figure(figsize=(20,5))\n",
    "plt.plot(gack_array/gin_array, l_array/gin_array, 'o')\n",
    "#plt.yscale('log')\n",
    "#plt.xscale('log')\n"
   ]
  },
  {
   "cell_type": "code",
   "execution_count": 50,
   "metadata": {},
   "outputs": [
    {
     "name": "stdout",
     "output_type": "stream",
     "text": [
      "+--------+--------+\n",
      "|     gin|    gack|\n",
      "+--------+--------+\n",
      "|     0.0|     0.0|\n",
      "|  3635.0|  3587.0|\n",
      "| 22440.0| 22485.0|\n",
      "|  6388.0|  6369.0|\n",
      "| 19098.0| 19107.0|\n",
      "| 12835.0| 12797.0|\n",
      "|102560.0|102561.0|\n",
      "|  4999.0|  5029.0|\n",
      "|156431.0|156404.0|\n",
      "|  6390.0|  6385.0|\n",
      "|  6389.0|  6431.0|\n",
      "|  6384.0|  6345.0|\n",
      "|  6388.0|  6389.0|\n",
      "|  3194.0|  3192.0|\n",
      "|  6394.0|  6394.0|\n",
      "|  6382.0|  6384.0|\n",
      "|  6398.0|  6394.0|\n",
      "|  6383.0|  6381.0|\n",
      "|  6404.0|  6433.0|\n",
      "|  3186.0|  3191.0|\n",
      "+--------+--------+\n",
      "only showing top 20 rows\n",
      "\n"
     ]
    }
   ],
   "source": [
    "df_shifted.select(['gin', 'gack']).show()\n",
    "#df_shifted.select('gin').rdd.flatMap(list).collect()"
   ]
  },
  {
   "cell_type": "code",
   "execution_count": null,
   "metadata": {},
   "outputs": [],
   "source": []
  },
  {
   "cell_type": "code",
   "execution_count": null,
   "metadata": {},
   "outputs": [],
   "source": []
  },
  {
   "cell_type": "code",
   "execution_count": null,
   "metadata": {},
   "outputs": [],
   "source": []
  }
 ],
 "metadata": {
  "kernelspec": {
   "display_name": "Python 3",
   "language": "python",
   "name": "python3"
  },
  "language_info": {
   "codemirror_mode": {
    "name": "ipython",
    "version": 3
   },
   "file_extension": ".py",
   "mimetype": "text/x-python",
   "name": "python",
   "nbconvert_exporter": "python",
   "pygments_lexer": "ipython3",
   "version": "3.5.2"
  }
 },
 "nbformat": 4,
 "nbformat_minor": 2
}
